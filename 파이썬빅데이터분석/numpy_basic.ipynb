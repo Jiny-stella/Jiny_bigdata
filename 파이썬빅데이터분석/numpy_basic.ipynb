{
 "cells": [
  {
   "cell_type": "markdown",
   "metadata": {},
   "source": [
    "# 02장 Numpy  기본 "
   ]
  },
  {
   "cell_type": "code",
   "execution_count": 2,
   "metadata": {},
   "outputs": [
    {
     "name": "stdout",
     "output_type": "stream",
     "text": [
      "<class 'list'>\n",
      "<class 'numpy.ndarray'>\n"
     ]
    },
    {
     "data": {
      "text/plain": [
       "array([0, 1, 2, 3, 4, 5])"
      ]
     },
     "execution_count": 2,
     "metadata": {},
     "output_type": "execute_result"
    }
   ],
   "source": [
    "# 라이브러리 설치 : pip install numpy\n",
    "import numpy as np\n",
    "data1 = [0,1,2,3,4,5]\n",
    "print(type(data1))        # <class 'list'>\n",
    "a1 = np.array(data1)\n",
    "print(type(a1))          # <class 'numpy.ndarray'>\n",
    "a1 \n",
    "# ndarray : 다차원 지원"
   ]
  },
  {
   "cell_type": "code",
   "execution_count": 9,
   "metadata": {},
   "outputs": [
    {
     "data": {
      "text/plain": [
       "dtype('int32')"
      ]
     },
     "execution_count": 9,
     "metadata": {},
     "output_type": "execute_result"
    }
   ],
   "source": [
    "a1.dtype  # 인스턴스멤버 data2 = [0,1,2,3.1,4.1]"
   ]
  },
  {
   "cell_type": "code",
   "execution_count": 10,
   "metadata": {},
   "outputs": [
    {
     "name": "stdout",
     "output_type": "stream",
     "text": [
      "[1.  2.  3.2 4.5 5. ]\n",
      "<class 'numpy.ndarray'>\n",
      "float64\n"
     ]
    },
    {
     "data": {
      "text/plain": [
       "array([1. , 2. , 3.2, 4.5, 5. ])"
      ]
     },
     "execution_count": 10,
     "metadata": {},
     "output_type": "execute_result"
    }
   ],
   "source": [
    "data2 = [1,2,3.2,4.5,5.0]\n",
    "a2 = np.array(data2)\n",
    "print(a2)\n",
    "print(type(a2))\n",
    "print(a2.dtype)\n",
    "a2"
   ]
  },
  {
   "cell_type": "code",
   "execution_count": 11,
   "metadata": {},
   "outputs": [
    {
     "name": "stdout",
     "output_type": "stream",
     "text": [
      "[ 0  1  2  3  4  5  6  7  8  9 10 11]\n"
     ]
    },
    {
     "data": {
      "text/plain": [
       "array([ 0,  1,  2,  3,  4,  5,  6,  7,  8,  9, 10, 11])"
      ]
     },
     "execution_count": 11,
     "metadata": {},
     "output_type": "execute_result"
    }
   ],
   "source": [
    "# np.arange()\n",
    "a3 = np.arange(12)\n",
    "print(a3)\n",
    "a3"
   ]
  },
  {
   "cell_type": "code",
   "execution_count": 12,
   "metadata": {},
   "outputs": [
    {
     "data": {
      "text/plain": [
       "array([2, 3, 4, 5, 6, 7, 8, 9])"
      ]
     },
     "execution_count": 12,
     "metadata": {},
     "output_type": "execute_result"
    }
   ],
   "source": [
    "a4 = np.arange(2,10)\n",
    "a4"
   ]
  },
  {
   "cell_type": "code",
   "execution_count": 13,
   "metadata": {},
   "outputs": [
    {
     "data": {
      "text/plain": [
       "array([ 0,  2,  4,  6,  8, 10, 12, 14])"
      ]
     },
     "execution_count": 13,
     "metadata": {},
     "output_type": "execute_result"
    }
   ],
   "source": [
    "a5 = np.arange(0,16,2)\n",
    "a5"
   ]
  },
  {
   "cell_type": "markdown",
   "metadata": {},
   "source": [
    "2차원, 3차원, 다차원"
   ]
  },
  {
   "cell_type": "code",
   "execution_count": 3,
   "metadata": {
    "scrolled": false
   },
   "outputs": [
    {
     "name": "stdout",
     "output_type": "stream",
     "text": [
      "[[0 1 2]\n",
      " [0 1 2]]\n",
      "(2, 3)\n",
      "[array([0, 1, 2]) array([0, 1, 2, 3])]\n"
     ]
    }
   ],
   "source": [
    "m = np.array([np.arange(3), np.arange(3)])\n",
    "print(m)\n",
    "print(m.shape)\n",
    "m  \n",
    "#[[0 1 2]   #같은  arange를 했을때 이렇게 나옴\n",
    "# [0 1 2]]\n",
    "\n",
    "d = np.array([np.arange(3), np.arange(4)])\n",
    "print(d) # [array([0, 1, 2]) array([0, 1, 2, 3])]  왜 이렇게? 2차원아닌강..?**************************************************8"
   ]
  },
  {
   "cell_type": "code",
   "execution_count": 15,
   "metadata": {},
   "outputs": [
    {
     "name": "stdout",
     "output_type": "stream",
     "text": [
      "[ 0  1  2  3  4  5  6  7  8  9 10 11]\n",
      "(12,)\n"
     ]
    },
    {
     "data": {
      "text/plain": [
       "array([ 0,  1,  2,  3,  4,  5,  6,  7,  8,  9, 10, 11])"
      ]
     },
     "execution_count": 15,
     "metadata": {},
     "output_type": "execute_result"
    }
   ],
   "source": [
    "m2 = np.arange(12)\n",
    "print(m2)\n",
    "print(m2.shape)\n",
    "m2"
   ]
  },
  {
   "cell_type": "code",
   "execution_count": 16,
   "metadata": {},
   "outputs": [
    {
     "name": "stdout",
     "output_type": "stream",
     "text": [
      "[[[ 0  1  2]\n",
      "  [ 3  4  5]]\n",
      "\n",
      " [[ 6  7  8]\n",
      "  [ 9 10 11]]]\n",
      "(2, 2, 3)\n",
      "11\n"
     ]
    }
   ],
   "source": [
    "m3 = np.arange(12).reshape(2,2,3)\n",
    "print(m3)\n",
    "print(m3.shape)\n",
    "m3\n",
    "print(m3[1,1,2])"
   ]
  },
  {
   "cell_type": "code",
   "execution_count": 17,
   "metadata": {},
   "outputs": [
    {
     "name": "stdout",
     "output_type": "stream",
     "text": [
      "(2, 2, 3)\n"
     ]
    },
    {
     "data": {
      "text/plain": [
       "array([[[[1, 2, 3],\n",
       "         [4, 5, 6]]]])"
      ]
     },
     "execution_count": 17,
     "metadata": {},
     "output_type": "execute_result"
    }
   ],
   "source": [
    "m_list = [[[[1,2,3],[4,5,6]]]]\n",
    "m = np.array(m_list)\n",
    "print(m3.shape)    #괄호가 4개 -> 4차원!\n",
    "m"
   ]
  },
  {
   "cell_type": "markdown",
   "metadata": {},
   "source": [
    "2차원, 3차원, 다차원\n",
    "rank : 차원, 첫 데이터까지의 대괄호의 갯수\n",
    "shape: 차원의 요소들의 수\n",
    "        1차원 shape : (x, )\n",
    "        2차원 shape : (x,y)\n",
    "        3차원 shape : (x,y,z)\n",
    "        ...\n",
    "        n차원 shape : (x,y,z, ...)\n",
    "       "
   ]
  },
  {
   "cell_type": "markdown",
   "metadata": {},
   "source": [
    "배열의 shpae 바꾸기 : reshape()"
   ]
  },
  {
   "cell_type": "code",
   "execution_count": 18,
   "metadata": {},
   "outputs": [
    {
     "name": "stdout",
     "output_type": "stream",
     "text": [
      "(12,)\n",
      "[ 0  1  2  3  4  5  6  7  8  9 10 11]\n",
      "(3, 4)\n",
      "[[ 0  1  2  3]\n",
      " [ 4  5  6  7]\n",
      " [ 8  9 10 11]]\n",
      "(2, 3, 2)\n",
      "[[[ 0  1]\n",
      "  [ 2  3]\n",
      "  [ 4  5]]\n",
      "\n",
      " [[ 6  7]\n",
      "  [ 8  9]\n",
      "  [10 11]]]\n",
      "(1, 2, 3, 2)\n",
      "[[[[ 0  1]\n",
      "   [ 2  3]\n",
      "   [ 4  5]]\n",
      "\n",
      "  [[ 6  7]\n",
      "   [ 8  9]\n",
      "   [10 11]]]]\n"
     ]
    }
   ],
   "source": [
    "d = np.arange(12)  # 1차원\n",
    "print(d.shape)\n",
    "print(d)\n",
    "d = d.reshape(3,4)  #2차원\n",
    "print(d.shape)\n",
    "print(d)\n",
    "\n",
    "d = d.reshape(2,3,2)  # 3차원\n",
    "print(d.shape)\n",
    "print(d)\n",
    "\n",
    "d = d.reshape(1,2,3,2)  # 4차원\n",
    "print(d.shape)\n",
    "print(d)"
   ]
  },
  {
   "cell_type": "code",
   "execution_count": 19,
   "metadata": {},
   "outputs": [
    {
     "name": "stdout",
     "output_type": "stream",
     "text": [
      "(12,)\n",
      "[ 0  1  2  3  4  5  6  7  8  9 10 11]\n",
      "(3, 4)\n",
      "[[ 0  1  2  3]\n",
      " [ 4  5  6  7]\n",
      " [ 8  9 10 11]]\n",
      "(2, 6)\n",
      "[[ 0  1  2  3  4  5]\n",
      " [ 6  7  8  9 10 11]]\n",
      "(4, 3)\n",
      "[[ 0  1  2]\n",
      " [ 3  4  5]\n",
      " [ 6  7  8]\n",
      " [ 9 10 11]]\n"
     ]
    }
   ],
   "source": [
    "d = np.arange(12)   # 1차원\n",
    "print(d.shape)\n",
    "print(d)\n",
    "d = d.reshape(3,4)  #2차원\n",
    "print(d.shape)\n",
    "print(d)\n",
    "\n",
    "d = d.reshape(-1,6)  # 행의  요소수를 자동으로 계산 \n",
    "print(d.shape)\n",
    "print(d)\n",
    "\n",
    "d = d.reshape(4,-1)  # 열의 요소수를 자동으로 계산 \n",
    "print(d.shape)\n",
    "print(d)"
   ]
  },
  {
   "cell_type": "markdown",
   "metadata": {},
   "source": [
    "배열의 인덱싱과 슬라이싱"
   ]
  },
  {
   "cell_type": "code",
   "execution_count": 20,
   "metadata": {},
   "outputs": [
    {
     "name": "stdout",
     "output_type": "stream",
     "text": [
      "[ 0  1  2  3  4  5  6  7  8  9 10 11]\n",
      "0 1 2 11\n",
      "[ 0  1  2  3  4  5  6  7  8  9 10] [0 3 6 9]\n"
     ]
    }
   ],
   "source": [
    "# 1차원 배열의 인덱싱과 슬라이싱: list와 동일한 방법\n",
    "d = np.arange(12)\n",
    "print(d)\n",
    "print(d[0],d[1],d[2],d[-1])\n",
    "print(d[:-1],d[::3])"
   ]
  },
  {
   "cell_type": "code",
   "execution_count": 21,
   "metadata": {},
   "outputs": [
    {
     "name": "stdout",
     "output_type": "stream",
     "text": [
      "[[ 0  1  2  3]\n",
      " [ 4  5  6  7]\n",
      " [ 8  9 10 11]]\n",
      "0\n",
      "10\n",
      "[0 1 2 3]\n",
      "[0 1 2 3]\n",
      "[[ 0  1  2  3]\n",
      " [ 4  5  6  7]\n",
      " [ 8  9 10 11]]\n",
      "[[ 0  2]\n",
      " [ 8 10]]\n",
      "[[20 20 20 20]\n",
      " [ 4  5  6  7]\n",
      " [ 8  9 10 11]]\n",
      "[[30 20 20 30]\n",
      " [ 4  5  6  7]\n",
      " [ 8  9 10 11]]\n"
     ]
    }
   ],
   "source": [
    "# 2차원 배열의 인덱싱과 슬라이싱 \n",
    "# date[행,열]\n",
    "d = np.arange(12).reshape(3,4)\n",
    "print(d)\n",
    "# 인덱싱\n",
    "print(d[0,0])\n",
    "print(d[2,2])   # 10\n",
    "#슬라이싱\n",
    "print(d[0])    #[ 0  1  2  3]\n",
    "print(d[0,:])  #[ 0  1  2  3]\n",
    "print(d[::])   \n",
    "print(d[::2,::2])\n",
    "d[0] = 20\n",
    "print(d)\n",
    "d[::3,::3] = 30\n",
    "print(d)"
   ]
  },
  {
   "cell_type": "code",
   "execution_count": 22,
   "metadata": {},
   "outputs": [
    {
     "name": "stdout",
     "output_type": "stream",
     "text": [
      "[[[ 0  1  2]\n",
      "  [ 3  4  5]]\n",
      "\n",
      " [[ 6  7  8]\n",
      "  [ 9 10 11]]]\n",
      "7\n",
      "5\n",
      "\n",
      "[[[0 1]]\n",
      "\n",
      " [[6 7]]]\n",
      "\n",
      "[[[ 4  5]]\n",
      "\n",
      " [[10 11]]]\n"
     ]
    }
   ],
   "source": [
    "# 3차원 배열의 인덱싱과 슬라이싱 \n",
    "# date[행,열,면]\n",
    "d = np.arange(12).reshape(2,2,3)\n",
    "print(d)\n",
    "# 인덱싱\n",
    "print(d[1,0,1])  # 7\n",
    "print(d[0,1,2])  #5\n",
    "print()\n",
    "# 슬라이싱\n",
    "print(d[:,:-1,:-1])    #shape:(2,1,2)\n",
    "print()\n",
    "print(d[:,1:,1:]) \n",
    "# [[[4 5]]            #shape:(2,1,2)\n",
    "#  [[10 11]]]\n"
   ]
  },
  {
   "cell_type": "code",
   "execution_count": 23,
   "metadata": {},
   "outputs": [
    {
     "name": "stdout",
     "output_type": "stream",
     "text": [
      "[[ 0  1  2  3]\n",
      " [ 4  5  6  7]\n",
      " [ 8  9 10 11]]\n",
      "[0 1 2 3]\n",
      "1\n",
      "1\n"
     ]
    }
   ],
   "source": [
    "d = np.arange(12).reshape(3,4)  #2차원\n",
    "print(d)\n",
    "print(d[0])\n",
    "# [0 1 2 3]\n",
    "\n",
    "print(d[0][1])  # 먼저 1차원으로 추출하고 거기서 2차원 추출 \n",
    "# 1\n",
    "\n",
    "print(d[0,1])"
   ]
  },
  {
   "cell_type": "code",
   "execution_count": 24,
   "metadata": {},
   "outputs": [
    {
     "name": "stdout",
     "output_type": "stream",
     "text": [
      "[[[ 0  1  2]\n",
      "  [ 3  4  5]]\n",
      "\n",
      " [[ 6  7  8]\n",
      "  [ 9 10 11]]]\n",
      "3\n"
     ]
    }
   ],
   "source": [
    "d = np.arange(12).reshape(2,2,3)    #3차원\n",
    "\n",
    "print(d)\n",
    "# print(d[0])\n",
    "# print(d[0][1][0])  # 3\n",
    "print(d[0,1,0])    # 3"
   ]
  },
  {
   "cell_type": "markdown",
   "metadata": {},
   "source": [
    "배열 형상 다루기: 편평화(flatten), 전치(transpose), reshape"
   ]
  },
  {
   "cell_type": "code",
   "execution_count": 25,
   "metadata": {
    "scrolled": true
   },
   "outputs": [
    {
     "name": "stdout",
     "output_type": "stream",
     "text": [
      "[[ 0  1  2  3]\n",
      " [ 4  5  6  7]\n",
      " [ 8  9 10 11]]\n",
      "[ 0  1  2  3  4  5  6  7  8  9 10 11] (12,)\n",
      "[[ 0  1  2  3]\n",
      " [ 4  5  6  7]\n",
      " [ 8  9 10 11]]\n",
      "[[ 8  9 10 11]\n",
      " [ 4  5  6  7]\n",
      " [ 0  1  2  3]]\n",
      "[[ 3  2  1  0]\n",
      " [ 7  6  5  4]\n",
      " [11 10  9  8]]\n",
      "[[11 10  9  8]\n",
      " [ 7  6  5  4]\n",
      " [ 3  2  1  0]]\n",
      "[[ 0  4  8]\n",
      " [ 1  5  9]\n",
      " [ 2  6 10]\n",
      " [ 3  7 11]]\n"
     ]
    }
   ],
   "source": [
    "# flatten  # 다차원 배열을 1차원으로 만든다\n",
    "d = np.arange(12).reshape(3,4)\n",
    "print(d)\n",
    "# f = d.flatten()   #[ 0  1  2  3  4  5  6  7  8  9 10 11] (12,)\n",
    "f = d.reshape(12,)     # *******************************************************이친구는 무엇인가요....\n",
    "print(f,f.shape)   #(12,)\n",
    "f = f.reshape(3,4)   \n",
    "print(d)\n",
    "\n",
    "# 데이터를 거꾸로 변형 \n",
    "print(d[::-1])  # 행의 순서를 거꾸로 변경 \n",
    "print(d[:,::-1]) # 열의 순서를 거꾸로 변경 \n",
    "print(d[::-1,::-1]) # 행과 열의 순서를 거꾸로 변경 \n",
    "\n",
    "# transpose(): 전치 행렬, 행과 열을 서로 맞바꾸는 함수\n",
    "t = d.transpose()\n",
    "print(t)   #(4,3)\n",
    "# [[ 0  4  8]\n",
    "#  [ 1  5  9]\n",
    "#  [ 2  6 10]\n",
    "#  [ 3  7 11]]\n"
   ]
  },
  {
   "cell_type": "markdown",
   "metadata": {},
   "source": [
    "배열합치기\n",
    "- 수평(h, 열)으로 합치기 : hstack(), column_Stack(), axis = 1\n",
    "- 수직(v, 행)으로 합치기 : vstack(), row_stack(), axis = 0"
   ]
  },
  {
   "cell_type": "code",
   "execution_count": 26,
   "metadata": {},
   "outputs": [
    {
     "name": "stdout",
     "output_type": "stream",
     "text": [
      "[[0 1 2]\n",
      " [3 4 5]\n",
      " [6 7 8]]\n",
      "[[ 0  2  4]\n",
      " [ 6  8 10]\n",
      " [12 14 16]]\n",
      "[[ 0  1  2  0  2  4]\n",
      " [ 3  4  5  6  8 10]\n",
      " [ 6  7  8 12 14 16]]\n",
      "[[ 0  1  2  0  2  4]\n",
      " [ 3  4  5  6  8 10]\n",
      " [ 6  7  8 12 14 16]]\n",
      "[[ 0  1  2  0  2  4]\n",
      " [ 3  4  5  6  8 10]\n",
      " [ 6  7  8 12 14 16]]\n"
     ]
    }
   ],
   "source": [
    "# 수평으로 합치기 : hstack()\n",
    "a = np.arange(9).reshape(3,3)\n",
    "b = a *2 # 배열의 연산\n",
    "print(a)\n",
    "print(b)\n",
    "r = np.hstack((a,b))\n",
    "print(r)\n",
    "c = np.column_stack((a,b))\n",
    "print(c)\n",
    "\n",
    "x = np.concatenate((a,b),axis = 1)  # 열 : axis = 1\n",
    "print(x)"
   ]
  },
  {
   "cell_type": "code",
   "execution_count": 27,
   "metadata": {},
   "outputs": [
    {
     "name": "stdout",
     "output_type": "stream",
     "text": [
      "[[0 1 2]\n",
      " [3 4 5]\n",
      " [6 7 8]]\n",
      "[[ 0  2  4]\n",
      " [ 6  8 10]\n",
      " [12 14 16]]\n",
      "[[ 0  1  2]\n",
      " [ 3  4  5]\n",
      " [ 6  7  8]\n",
      " [ 0  2  4]\n",
      " [ 6  8 10]\n",
      " [12 14 16]]\n",
      "[[ 0  1  2]\n",
      " [ 3  4  5]\n",
      " [ 6  7  8]\n",
      " [ 0  2  4]\n",
      " [ 6  8 10]\n",
      " [12 14 16]]\n",
      "[[ 0  1  2]\n",
      " [ 3  4  5]\n",
      " [ 6  7  8]\n",
      " [ 0  2  4]\n",
      " [ 6  8 10]\n",
      " [12 14 16]]\n"
     ]
    }
   ],
   "source": [
    "# 수직으로 합치기 : vstack()\n",
    "a = np.arange(9).reshape(3,3)\n",
    "b = a *2 # 배열의 연산\n",
    "print(a)\n",
    "print(b)\n",
    "r = np.vstack((a,b))\n",
    "print(r)\n",
    "c = np.row_stack((a,b))\n",
    "print(c)\n",
    "\n",
    "x = np.concatenate((a,b),axis = 0)  # 행 : axis = 0\n",
    "print(x)"
   ]
  },
  {
   "cell_type": "markdown",
   "metadata": {},
   "source": [
    "쪼개기\n",
    "- hsplit(배열, 열의 갯수) : 수평, 열 , axis = 1\n",
    "- vsplit(배열, 행의 갯수) : 수직, 행  , axis = 0"
   ]
  },
  {
   "cell_type": "code",
   "execution_count": 28,
   "metadata": {},
   "outputs": [
    {
     "name": "stdout",
     "output_type": "stream",
     "text": [
      "[[ 0  1  2  3]\n",
      " [ 4  5  6  7]\n",
      " [ 8  9 10 11]]\n",
      "[array([[0],\n",
      "       [4],\n",
      "       [8]]), array([[1],\n",
      "       [5],\n",
      "       [9]]), array([[ 2],\n",
      "       [ 6],\n",
      "       [10]]), array([[ 3],\n",
      "       [ 7],\n",
      "       [11]])]\n",
      "[array([[0],\n",
      "       [4],\n",
      "       [8]]), array([[1],\n",
      "       [5],\n",
      "       [9]]), array([[ 2],\n",
      "       [ 6],\n",
      "       [10]]), array([[ 3],\n",
      "       [ 7],\n",
      "       [11]])]\n",
      "[array([[0, 1, 2, 3]]), array([[4, 5, 6, 7]]), array([[ 8,  9, 10, 11]])]\n",
      "[array([[0, 1, 2, 3]]), array([[4, 5, 6, 7]]), array([[ 8,  9, 10, 11]])]\n"
     ]
    }
   ],
   "source": [
    "a = np.arange(12).reshape(3,4)\n",
    "print(a)\n",
    "\n",
    "print(np.hsplit(a,4))\n",
    "print(np.split(a,4,axis = 1))\n",
    "\n",
    "print(np.vsplit(a,3))\n",
    "print(np.split(a,3,axis = 0))"
   ]
  },
  {
   "cell_type": "markdown",
   "metadata": {},
   "source": [
    "Numpy 속성(Attrribute): 클래스의 인스턴스 멤버변수\n",
    "    - T, flat, ndim, nbytes, size, dtype"
   ]
  },
  {
   "cell_type": "code",
   "execution_count": 29,
   "metadata": {},
   "outputs": [
    {
     "name": "stdout",
     "output_type": "stream",
     "text": [
      "[[ 0  1  2  3]\n",
      " [ 4  5  6  7]\n",
      " [ 8  9 10 11]]\n",
      "48\n",
      "12\n",
      "int32\n",
      "2\n",
      "[[ 0  4  8]\n",
      " [ 1  5  9]\n",
      " [ 2  6 10]\n",
      " [ 3  7 11]]\n",
      "[[0 0 0 0]\n",
      " [0 0 0 0]\n",
      " [0 0 0 0]]\n"
     ]
    }
   ],
   "source": [
    "a = np.arange(12).reshape(3,4)\n",
    "print(a)\n",
    "print(a.nbytes)    #48: byte 단위로 데이터 크기\n",
    "print(a.size)     #12 : 데이터 크기\n",
    "print(a.dtype)    # int32 -> 4 byte\n",
    "print(a.ndim)     # 2 : 차원의 크기\n",
    "print(a.T)        # 전치 행렬\n",
    "a.flat = 0        # 배열 전체를 0으로 변경 \n",
    "print(a)"
   ]
  },
  {
   "cell_type": "markdown",
   "metadata": {},
   "source": [
    "배열의 뷰(View)와 사본(Copy)\n",
    "- View : 원본 객체와 메모리를 공유한다\n",
    "- copy : 원본 객체와는 다른 별도의 메모리를 사용한다"
   ]
  },
  {
   "cell_type": "code",
   "execution_count": 30,
   "metadata": {},
   "outputs": [
    {
     "name": "stdout",
     "output_type": "stream",
     "text": [
      "<class 'numpy.ndarray'>\n",
      "(768, 1024, 3)\n",
      "2359296\n",
      "2359296\n",
      "uint8\n",
      "3\n"
     ]
    },
    {
     "data": {
      "text/plain": [
       "<Figure size 640x480 with 3 Axes>"
      ]
     },
     "metadata": {},
     "output_type": "display_data"
    }
   ],
   "source": [
    "import scipy.misc\n",
    "import matplotlib.pyplot as plt\n",
    "\n",
    "face = scipy.misc.face()    #read only 읽기 전용!\n",
    "face2 = face.copy()   #face2: read and write 가능 \n",
    "print(type(face2))    \n",
    "print(face2.shape)    #(768, 1024, 3)print(a.nbytes)    #48: byte 단위로 데이터 크기\n",
    "print(face2.nbytes)   # 2359296  48: byte 단위로 데이터 크기\n",
    "print(face2.size)     # 2359296 : 데이터 크기\n",
    "print(face2.dtype)    # int8 -> 4 byte\n",
    "print(face2.ndim)     # 3 : 차원의 크기\n",
    "\n",
    "f_copy = face2.copy()\n",
    "f_copy.flat = 0\n",
    "f_view = face2.view()\n",
    "# f_view.flat = 0 \n",
    "# face2[:,:,1] = 0\n",
    "plt.subplot(221)\n",
    "plt.imshow(face2)\n",
    "# face2[:,:,1] = 0\n",
    "# for i in range(768):\n",
    "#     for j in range(1024):\n",
    "#         for k in range(3):\n",
    "#             face[i][j][k] = 0\n",
    "\n",
    "plt.subplot(222)\n",
    "plt.imshow(f_copy)\n",
    "\n",
    "plt.subplot(223)\n",
    "plt.imshow(f_view)\n",
    "plt.show()\n",
    "\n",
    "\n",
    "# print(face2)"
   ]
  },
  {
   "cell_type": "markdown",
   "metadata": {},
   "source": [
    "4장 행렬과 선형 회귀대수"
   ]
  },
  {
   "cell_type": "code",
   "execution_count": 48,
   "metadata": {},
   "outputs": [
    {
     "name": "stdout",
     "output_type": "stream",
     "text": [
      "66\n",
      "5.5\n",
      "3.452052529534663\n",
      "11\n",
      "0\n",
      "5.5\n",
      "5.5\n"
     ]
    }
   ],
   "source": [
    "import numpy as np\n",
    "\n",
    "a = np.arange(12).reshape(3,4)\n",
    "# int(mp.zero(10))\n",
    "\n",
    "# numpy의 통계함수\n",
    "print(a.sum())\n",
    "print(a.mean())\n",
    "print(a.std())\n",
    "print(a.max())\n",
    "print(a.min())\n",
    "\n",
    "from scipy.stats import scoreatpercentile\n",
    "print(scoreatpercentile(a,50))\n",
    "print(np.median(a))"
   ]
  },
  {
   "cell_type": "code",
   "execution_count": 49,
   "metadata": {},
   "outputs": [
    {
     "name": "stdout",
     "output_type": "stream",
     "text": [
      "<class 'numpy.matrix'> [[ 2  4  6  8]\n",
      " [ 4  2  6  8]\n",
      " [10 -4 18  8]]\n",
      "[[ 2  4  6  8]\n",
      " [ 4  2  6  8]\n",
      " [10 -4 18  8]]\n"
     ]
    }
   ],
   "source": [
    "# 행렬과 선형대수\n",
    "A = np.mat(\"2 4 6 8 ;4 2 6 8 ;10 -4 18 8\")\n",
    "print(type(A),A)\n",
    "print(A)\n",
    "#역행렬 : A * X = E(항등행렬, 왼쪽 위에서 대각선으로 1이고 나머지는 0)"
   ]
  },
  {
   "cell_type": "code",
   "execution_count": 55,
   "metadata": {},
   "outputs": [
    {
     "name": "stdout",
     "output_type": "stream",
     "text": [
      "[[29.  11.5  7. ]\n",
      " [16.   6.5  4. ]\n",
      " [ 4.   1.5  1. ]]\n",
      "[[1. 0. 0.]\n",
      " [0. 1. 0.]\n",
      " [0. 0. 1.]]\n"
     ]
    }
   ],
   "source": [
    "#역행렬\n",
    "inverse = np.linalg.inv(A)\n",
    "print(inverse)\n",
    "\n",
    "print(A*inverse)\n",
    "#[[1 0 0 \n",
    "#  0 1 0 \n",
    "#  0 0 1]]"
   ]
  },
  {
   "cell_type": "code",
   "execution_count": 59,
   "metadata": {},
   "outputs": [
    {
     "name": "stdout",
     "output_type": "stream",
     "text": [
      "[[ 1 -2  1]\n",
      " [ 0  2 -8]\n",
      " [-4  5  9]]\n",
      "[ 0  8 -9]\n",
      "using solve: [29. 16.  3.] (3,)\n",
      "[[ 0.  8. -9.]]\n",
      "[[29. 16.  3.]]\n",
      "using inverse: [[29. 16.  3.]]\n"
     ]
    }
   ],
   "source": [
    "# 선형(linear)방정식\n",
    "A = np.mat(\"1 -2 1; 0 2 -8; -4 5 9\") #메트릭스 행렬\n",
    "print(A)\n",
    "b = np.array([0,8,-9])\n",
    "print(b)\n",
    "# 1*X0 - 2*X1 + 1*X2 = 0.\n",
    "# 0*X0 +2*X1 - 8*X2 = 8\n",
    "#-4*X0 + 5*X1 + 9*X2 = -9  #우리는 미지수를 구하는게 목적이아니라 기울기 구하는게 중요!\n",
    "x = np.linalg.solve(A,b) #답은 b에 있당\n",
    "print('using solve:',x,x.shape) \n",
    "print(np.dot(A,x))  #A * X = b   --> WxX = Y\n",
    "#                     x = inverse_A * b \n",
    "inverse = np.linalg.inv(A)\n",
    "x = np.dot(inverse,b)\n",
    "print(x)\n",
    "print('using inverse:',x)\n"
   ]
  },
  {
   "cell_type": "code",
   "execution_count": 54,
   "metadata": {},
   "outputs": [
    {
     "name": "stdout",
     "output_type": "stream",
     "text": [
      "[[0 1]\n",
      " [2 3]]\n",
      "[[0 1]\n",
      " [2 3]]\n",
      "[[0 1]\n",
      " [4 9]]\n",
      "[[ 2  3]\n",
      " [ 6 11]]\n"
     ]
    }
   ],
   "source": [
    "a1 = np.arange(4).reshape(2,2)\n",
    "a2 = np.arange(4).reshape(2,2)\n",
    "print(a1)\n",
    "print(a2)\n",
    "print(a1 * a2) # element-wise 곱셈 :요소간의 곱셈\n",
    "print(np.dot(a1,a2)) #matrix 곱셈, product 곱셈\n",
    "# (m,n) * (n*l) = (m*l)"
   ]
  },
  {
   "cell_type": "code",
   "execution_count": null,
   "metadata": {},
   "outputs": [],
   "source": []
  }
 ],
 "metadata": {
  "kernelspec": {
   "display_name": "Python 3",
   "language": "python",
   "name": "python3"
  },
  "language_info": {
   "codemirror_mode": {
    "name": "ipython",
    "version": 3
   },
   "file_extension": ".py",
   "mimetype": "text/x-python",
   "name": "python",
   "nbconvert_exporter": "python",
   "pygments_lexer": "ipython3",
   "version": "3.7.3"
  }
 },
 "nbformat": 4,
 "nbformat_minor": 2
}
