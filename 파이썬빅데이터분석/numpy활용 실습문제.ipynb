{
 "cells": [
  {
   "cell_type": "markdown",
   "metadata": {},
   "source": [
    "1. \n",
    " - numpy의 행렬을 사용하여 다음 연립 방정식의 푸는 프로그램을 작성하세요\n",
    "   X0,X1,X2의 값을 구하세요 구한 값이 맞는지 np.dot()함수로 확인해보세요"
   ]
  },
  {
   "cell_type": "code",
   "execution_count": 26,
   "metadata": {},
   "outputs": [
    {
     "name": "stdout",
     "output_type": "stream",
     "text": [
      "[[ 3  2 -4]\n",
      " [ 2 -4  9]\n",
      " [ 5  3 -7]]\n",
      "[10.  5. -3.]\n",
      "[[ 52. -27.  86.]]\n"
     ]
    }
   ],
   "source": [
    "# 3*X0 + 2*X1 - 4*X2 = 52 \n",
    "# 2*X0 - 4*X1 + 9*X2 = -27\n",
    "# 5*X0 + 3*X1 - 7*X2 = 86\n",
    "import numpy as np\n",
    "A = np.mat(\"3 2 -4; 2 -4 9; 5 3 -7\")\n",
    "print(A)\n",
    "b = np.array([52,-27,86])\n",
    "x = np.linalg.solve(A,b) # A * x를 곱했을 때 b가 만드는거\n",
    "print(x)   #[10.  5. -3.]\n",
    "\n",
    "#2  \n",
    "print(np.dot(A,x))   #[[ 52. -27.  86.]]  = b \n",
    "\n",
    "\n",
    "\n"
   ]
  },
  {
   "cell_type": "markdown",
   "metadata": {},
   "source": [
    "2.\n",
    "   - numpy의 dot() 함수와 같은 기능을 하는 mydot() 함수를 구현하세요\n",
    "     numpy의 dot()함수를 사용하지 않고 for문을 사용하여 구현하고\n",
    "     실행 결과를 np.dot()함수로 실행한 출력 결과와 비교해보세요\n",
    "     (numpy의 dot()함수이외의 인덱싱,슬라이싱,sum()과 같은 함수는 사용해도 무방)"
   ]
  },
  {
   "cell_type": "code",
   "execution_count": 24,
   "metadata": {},
   "outputs": [
    {
     "data": {
      "text/plain": [
       "3"
      ]
     },
     "execution_count": 24,
     "metadata": {},
     "output_type": "execute_result"
    }
   ],
   "source": [
    "a = np.arange(6).reshape(2,3)\n",
    "b = np.arange(6).reshape(3,2)\n",
    "a.dot(b)\n",
    "b.shape[0]"
   ]
  },
  {
   "cell_type": "markdown",
   "metadata": {},
   "source": [
    "2. numpy의 dot() 함수와 같은 기능을 하는 mydot() 함수를 구현하세요\n",
    "   numpy의 dot()함수를 사용하지 않고 for문을 사용하여 구현하고\n",
    "   실행 결과를 np.dot()함수로 실행한 출력 결과와 비교해보세요\n",
    "   (numpy의 dot()함수이외의 인덱싱,슬라이싱,sum()과 같은 함수는 사용해도 무방)"
   ]
  },
  {
   "cell_type": "code",
   "execution_count": 30,
   "metadata": {},
   "outputs": [
    {
     "name": "stdout",
     "output_type": "stream",
     "text": [
      "\n",
      "a.dot(b):\n",
      "[[10 13]\n",
      " [28 40]]\n",
      "\n",
      "mydot(a,b):\n",
      "[[10 13]\n",
      " [28 40]]\n",
      "\n",
      " a.dot(b):\n",
      "[[ 495  510  525  540  555  570  585  600  615]\n",
      " [1305 1356 1407 1458 1509 1560 1611 1662 1713]\n",
      " [2115 2202 2289 2376 2463 2550 2637 2724 2811]\n",
      " [2925 3048 3171 3294 3417 3540 3663 3786 3909]]\n",
      "\n",
      " mydot(a,b):\n",
      "[[ 495  510  525  540  555  570  585  600  615]\n",
      " [1305 1356 1407 1458 1509 1560 1611 1662 1713]\n",
      " [2115 2202 2289 2376 2463 2550 2637 2724 2811]\n",
      " [2925 3048 3171 3294 3417 3540 3663 3786 3909]]\n"
     ]
    }
   ],
   "source": [
    "# shape의 데이터 타입은 튜플임\n",
    "\n",
    "def mydot(a,b):\n",
    "    r = np.arange(a.shape[0]*b.shape[1]).reshape(a.shape[0],\n",
    "                                                 b.shape[1])\n",
    "    for i in range(a.shape[0]):\n",
    "        for j in range(b.shape[1]):\n",
    "            c = a[i, :] * b[:, j]\n",
    "            r[i][j]= c.sum()\n",
    "    return r\n",
    "# (m,n) * (n,l) = (m,l)\n",
    "\n",
    "a = np.arange(6).reshape(2,3)\n",
    "b = np.arange(6).reshape(3,2)\n",
    "print('\\na.dot(b):')\n",
    "print(a.dot(b))\n",
    "print('\\nmydot(a,b):')\n",
    "print(mydot(a,b))\n",
    "\n",
    "# [[10 13]\n",
    "#  [28 40]]\n",
    "\n",
    "a = np.arange(24).reshape(4,6)\n",
    "b = np.arange(54).reshape(6,9)\n",
    "print('\\n a.dot(b):')\n",
    "print(a.dot(b))\n",
    "print('\\n mydot(a,b):')\n",
    "print(mydot(a,b))"
   ]
  },
  {
   "cell_type": "code",
   "execution_count": null,
   "metadata": {},
   "outputs": [],
   "source": []
  }
 ],
 "metadata": {
  "kernelspec": {
   "display_name": "Python 3",
   "language": "python",
   "name": "python3"
  },
  "language_info": {
   "codemirror_mode": {
    "name": "ipython",
    "version": 3
   },
   "file_extension": ".py",
   "mimetype": "text/x-python",
   "name": "python",
   "nbconvert_exporter": "python",
   "pygments_lexer": "ipython3",
   "version": "3.7.3"
  }
 },
 "nbformat": 4,
 "nbformat_minor": 2
}
