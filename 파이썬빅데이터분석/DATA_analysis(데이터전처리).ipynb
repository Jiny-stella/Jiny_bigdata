{
 "cells": [
  {
   "cell_type": "markdown",
   "metadata": {},
   "source": [
    "# 전처리(preprocessing)"
   ]
  },
  {
   "cell_type": "markdown",
   "metadata": {},
   "source": [
    "- (1) 표준화 (standardization)\n",
    "    : 데이터가 평균으로부터 얼마나 떨어져 있는지 나타내는 값으로 특정범위에서 벗어난 데이터는  outlier(이상치) 로 간주하여 제거한다.\n",
    "    - standardScater 사용 : z = (x - mean())/std()\n",
    "\n",
    "- (2) 정규화(Normalization) : 데이터의 범위를 일치시키거나 분포를 유사하게 만들어 주는 기능\n",
    "    데이터 범위를 0-1 로 변환 \n",
    "    - MinMaxSclaer  사용\n",
    "      z = (x - min())/(max() - min())\n",
    "    \n",
    "### 데이터 분석 절차 \n",
    "데이터 표준화를 통해 outlier을 제거하고 그 다음 데이터 정규화를하여 상대적 크기의영향력을 줄인 다음 분석을 시작한다."
   ]
  },
  {
   "cell_type": "code",
   "execution_count": 1,
   "metadata": {},
   "outputs": [],
   "source": [
    "import numpy as np\n",
    "import pandas as pd\n",
    "import matplotlib.pyplot as plt"
   ]
  },
  {
   "cell_type": "code",
   "execution_count": 8,
   "metadata": {},
   "outputs": [
    {
     "name": "stdout",
     "output_type": "stream",
     "text": [
      "raw data [[ 6  0  1  8]\n",
      " [ 9  6  2 10]\n",
      " [ 2  8  8  6]]\n",
      "numpy standardized data \n",
      " [[ 0.11624764 -1.37281295 -0.86266219  0.        ]\n",
      " [ 1.16247639  0.39223227 -0.53916387  1.22474487]\n",
      " [-1.27872403  0.98058068  1.40182605 -1.22474487]]\n"
     ]
    }
   ],
   "source": [
    "# 표준화 : standardization\n",
    "# (1) numpy 를 이용한 표준화\n",
    "# Z = (X - mean())/std()\n",
    "data = np.random.randint(12,size = (3,4))  # 0- 11 까지의 정수 \n",
    "print('raw data', data)\n",
    "data_stand_np = (data - np.mean(data, axis = 0))/np.std(data,axis = 0)\n",
    "print('numpy standardized data \\n',data_stand_np)"
   ]
  },
  {
   "cell_type": "code",
   "execution_count": 21,
   "metadata": {
    "scrolled": true
   },
   "outputs": [
    {
     "data": {
      "image/png": "[encoded data removed]",
      "text/plain": [
       "<Figure size 432x288 with 1 Axes>"
      ]
     },
     "metadata": {
      "needs_background": "light"
     },
     "output_type": "display_data"
    },
    {
     "name": "stdout",
     "output_type": "stream",
     "text": [
      "scipy standardized datad \n",
      " [[-0.05414927]\n",
      " [-0.09811235]\n",
      " [-0.25937343]\n",
      " [-0.14973341]\n",
      " [-0.10481359]\n",
      " [-0.20050124]\n",
      " [-0.13019562]\n",
      " [-0.14139227]\n",
      " [-0.14882924]\n",
      " [-0.16159012]\n",
      " [-0.11824629]\n",
      " [-0.06331907]\n",
      " [-0.21797641]\n",
      " [-0.07578546]\n",
      " [-0.13282648]\n",
      " [-0.11738235]\n",
      " [-0.23021263]\n",
      " [-0.13949564]\n",
      " [-0.04323885]\n",
      " [-0.2261611 ]\n",
      " [-0.29021269]\n",
      " [-0.27349537]\n",
      " [-0.13015577]\n",
      " [ 0.02099156]\n",
      " [-0.06897907]\n",
      " [-0.02982217]\n",
      " [-0.14206275]\n",
      " [-0.04941206]\n",
      " [-0.1684843 ]\n",
      " [-0.10539365]\n",
      " [-0.1682039 ]\n",
      " [-0.18831923]\n",
      " [-0.13966888]\n",
      " [-0.18310001]\n",
      " [-0.05579802]\n",
      " [-0.13522447]\n",
      " [-0.12058717]\n",
      " [-0.17321969]\n",
      " [-0.0595074 ]\n",
      " [-0.20134896]\n",
      " [-0.10203905]\n",
      " [-0.17416411]\n",
      " [-0.21614798]\n",
      " [-0.18404126]\n",
      " [-0.20652928]\n",
      " [-0.16430773]\n",
      " [-0.17332726]\n",
      " [-0.12686734]\n",
      " [-0.10882131]\n",
      " [-0.15965129]\n",
      " [-0.15098327]\n",
      " [-0.1285134 ]\n",
      " [-0.18764656]\n",
      " [-0.09862017]\n",
      " [-0.08905693]\n",
      " [-0.13461333]\n",
      " [ 0.02168608]\n",
      " [-0.08369024]\n",
      " [-0.15714409]\n",
      " [-0.17497079]\n",
      " [-0.16569762]\n",
      " [-0.1849252 ]\n",
      " [-0.06861571]\n",
      " [-0.19891226]\n",
      " [-0.15492205]\n",
      " [-0.18689165]\n",
      " [-0.07450798]\n",
      " [-0.25032525]\n",
      " [-0.17499352]\n",
      " [-0.15783126]\n",
      " [-0.1263547 ]\n",
      " [-0.11625776]\n",
      " [-0.1645283 ]\n",
      " [-0.07858183]\n",
      " [-0.12668302]\n",
      " [ 0.02688964]\n",
      " [-0.25672849]\n",
      " [-0.10486604]\n",
      " [-0.22368782]\n",
      " [-0.20605974]\n",
      " [-0.00753328]\n",
      " [-0.0246725 ]\n",
      " [-0.28154268]\n",
      " [-0.16502648]\n",
      " [-0.15383249]\n",
      " [-0.30119682]\n",
      " [-0.15261859]\n",
      " [-0.12107714]\n",
      " [-0.13363718]\n",
      " [-0.29140149]\n",
      " [-0.07011919]\n",
      " [-0.1316913 ]\n",
      " [-0.15355173]\n",
      " [-0.20291282]\n",
      " [-0.09834917]\n",
      " [-0.08363245]\n",
      " [-0.18352452]\n",
      " [-0.14274481]\n",
      " [ 6.98416665]\n",
      " [ 6.98416665]]\n"
     ]
    }
   ],
   "source": [
    "# (2) scypi.stats를 이용한 표준화 : zcore()\n",
    "import scipy.stats as ss\n",
    "data_stand_as = ss.zscore(data)\n",
    "plt.boxplot(data_stand_as)\n",
    "plt.show()\n",
    "print('scipy standardized datad \\n',data_stand_as)"
   ]
  },
  {
   "cell_type": "code",
   "execution_count": 5,
   "metadata": {},
   "outputs": [
    {
     "name": "stdout",
     "output_type": "stream",
     "text": [
      "skleearn standardized data:\n",
      " [[-0.98058068 -0.70710678 -1.41421356 -0.26726124]\n",
      " [-0.39223227 -0.70710678  0.70710678 -1.06904497]\n",
      " [ 1.37281295  1.41421356  0.70710678  1.33630621]]\n"
     ]
    },
    {
     "name": "stderr",
     "output_type": "stream",
     "text": [
      "C:\\Users\\CPB06GameN\\Anaconda3\\lib\\site-packages\\sklearn\\utils\\validation.py:595: DataConversionWarning: Data with input dtype int32 was converted to float64 by StandardScaler.\n",
      "  warnings.warn(msg, DataConversionWarning)\n",
      "C:\\Users\\CPB06GameN\\Anaconda3\\lib\\site-packages\\sklearn\\utils\\validation.py:595: DataConversionWarning: Data with input dtype int32 was converted to float64 by StandardScaler.\n",
      "  warnings.warn(msg, DataConversionWarning)\n"
     ]
    }
   ],
   "source": [
    "# (3) sklearn.preprocessing 을 이용한 표준화\n",
    "# standardscaler().fit_transform()\n",
    "\n",
    "from sklearn.preprocessing import StandardScaler\n",
    "data_stand_skl = StandardScaler().fit_transform(data)\n",
    "print('skleearn standardized data:\\n', data_stand_skl)"
   ]
  },
  {
   "cell_type": "code",
   "execution_count": 6,
   "metadata": {},
   "outputs": [
    {
     "name": "stdout",
     "output_type": "stream",
     "text": [
      "raw data: \n",
      " [[ 1  0  7  2]\n",
      " [ 2  0 11  0]\n",
      " [ 5 10 11  6]]\n",
      "nimpy minmax data:Wn [[ 0.75  0.    5.25  2.  ]\n",
      " [ 1.75  0.    9.25  0.  ]\n",
      " [ 4.75 10.    9.25  6.  ]]\n"
     ]
    }
   ],
   "source": [
    "# 정규화 minmaxscater\n",
    "# 1) numpy를 이용한 정규화\n",
    "# Z = (X - min())/(max() - min())\n",
    "\n",
    "data_minmax_np = (data - np.min(data,axis = 0)/ (np.max(data,axis=0) - np.min(data,axis = 0)))\n",
    "print('raw data: \\n' , data)\n",
    "print('nimpy minmax data:Wn',data_minmax_np)\n",
    "# 정규화 : MinMaxScaler 범위가 0~1사이\n",
    "# (1) Numpy를 이용한 정규화\n",
    "#  Z = (X - min())/(max() - min()) # 축은 왜 x? 열의 최대최소 구해서 웅ㅇ랭룽\n"
   ]
  },
  {
   "cell_type": "code",
   "execution_count": 7,
   "metadata": {},
   "outputs": [
    {
     "name": "stdout",
     "output_type": "stream",
     "text": [
      "sklear minmax data:Wn [[-0.98058068 -0.70710678 -1.41421356 -0.26726124]\n",
      " [-0.39223227 -0.70710678  0.70710678 -1.06904497]\n",
      " [ 1.37281295  1.41421356  0.70710678  1.33630621]]\n"
     ]
    },
    {
     "name": "stderr",
     "output_type": "stream",
     "text": [
      "C:\\Users\\CPB06GameN\\Anaconda3\\lib\\site-packages\\sklearn\\utils\\validation.py:595: DataConversionWarning: Data with input dtype int32 was converted to float64 by StandardScaler.\n",
      "  warnings.warn(msg, DataConversionWarning)\n",
      "C:\\Users\\CPB06GameN\\Anaconda3\\lib\\site-packages\\sklearn\\utils\\validation.py:595: DataConversionWarning: Data with input dtype int32 was converted to float64 by StandardScaler.\n",
      "  warnings.warn(msg, DataConversionWarning)\n"
     ]
    }
   ],
   "source": [
    "# #(2) sklearn.preprocessing 을 이용한 정규화\n",
    "# #MinMaxSclaer().fit_transform()\n",
    "# from sklearn.preprocessing import MinMaxScaler\n",
    "# data_minmax_skl = MinMaxScaler().fit_transform(data)\n",
    "# print('sklearn minmax data:\\n', data_minmax_skl)\n",
    "\n",
    "# (2) scipy.stats이용한 표준화 : zscore() # 넘파이에 지스코어 함수 해서 롸?\n",
    "# MinMaxScaler().fit_transform()\n",
    "from sklearn.preprocessing import StandardScaler\n",
    "data_minmax_skl = StandardScaler().fit_transform(data)\n",
    "print('sklear minmax data:Wn',data_minmax_skl)\n"
   ]
  },
  {
   "cell_type": "code",
   "execution_count": 8,
   "metadata": {},
   "outputs": [
    {
     "name": "stdout",
     "output_type": "stream",
     "text": [
      "raw data:\n",
      " [ 1.3315865   0.71527897 -1.54540029 -0.00838385  0.62133597 -0.72008556\n",
      "  0.26551159  0.10854853  0.00429143 -0.17460021  0.43302619  1.20303737\n",
      " -0.96506567  1.02827408  0.22863013  0.44513761 -1.13660221  0.13513688\n",
      "  1.484537   -1.07980489 -1.97772828 -1.7433723   0.26607016  2.38496733\n",
      "  1.12369125  1.67262221  0.09914922  1.39799638 -0.27124799  0.61320418\n",
      " -0.26731719 -0.54930901  0.1327083  -0.47614201  1.30847308  0.19501328\n",
      "  0.40020999 -0.33763234  1.25647226 -0.7319695   0.66023155 -0.35087189\n",
      " -0.93943336 -0.48933722 -0.80459114 -0.21269764 -0.33914025  0.31216994\n",
      "  0.56515267 -0.14742026 -0.02590534  0.2890942  -0.53987907  0.70816002\n",
      "  0.84222474  0.2035808   2.39470366  0.91745894 -0.11227247 -0.36218045\n",
      " -0.23218226 -0.5017289   1.12878515 -0.69781003 -0.08112218 -0.52929608\n",
      "  1.04618286 -1.41855603 -0.36249918 -0.12190569  0.31935642  0.4609029\n",
      " -0.21578989  0.98907246  0.31475378  2.46765106 -1.50832149  0.62060066\n",
      " -1.04513254 -0.79800882  1.98508459  1.74481415 -1.85618548 -0.2227737\n",
      " -0.06584785 -2.13171211 -0.04883051  0.39334122  0.21726515 -1.99439377\n",
      "  1.10770823  0.24454398 -0.06191203 -0.75389296  0.71195902  0.91826915\n",
      " -0.48209314  0.08958761  0.82699862 -1.95451212]\n"
     ]
    },
    {
     "data": {
      "image/png": "[encoded data removed]",
      "text/plain": [
       "<Figure size 432x288 with 1 Axes>"
      ]
     },
     "metadata": {
      "needs_background": "light"
     },
     "output_type": "display_data"
    }
   ],
   "source": [
    "# 이상치(outlier)을 제거하여 표준화 하기\n",
    "\n",
    "np.random.seed(10)\n",
    "data = np.random.randn(100)  # 정규분포 데이터 100개 \n",
    "print('raw data:\\n', data)\n",
    "plt.hist(data)\n",
    "plt.show()   # p.139 참고 \n"
   ]
  },
  {
   "cell_type": "code",
   "execution_count": 9,
   "metadata": {},
   "outputs": [
    {
     "name": "stdout",
     "output_type": "stream",
     "text": [
      "insert outlier data:\n",
      " [ 1.33158650e+00  7.15278974e-01 -1.54540029e+00 -8.38384993e-03\n",
      "  6.21335974e-01 -7.20085561e-01  2.65511586e-01  1.08548526e-01\n",
      "  4.29143093e-03 -1.74600211e-01  4.33026190e-01  1.20303737e+00\n",
      " -9.65065671e-01  1.02827408e+00  2.28630130e-01  4.45137613e-01\n",
      " -1.13660221e+00  1.35136878e-01  1.48453700e+00 -1.07980489e+00\n",
      " -1.97772828e+00 -1.74337230e+00  2.66070164e-01  2.38496733e+00\n",
      "  1.12369125e+00  1.67262221e+00  9.91492158e-02  1.39799638e+00\n",
      " -2.71247988e-01  6.13204185e-01 -2.67317189e-01 -5.49309014e-01\n",
      "  1.32708296e-01 -4.76142015e-01  1.30847308e+00  1.95013279e-01\n",
      "  4.00209988e-01 -3.37632337e-01  1.25647226e+00 -7.31969502e-01\n",
      "  6.60231551e-01 -3.50871891e-01 -9.39433360e-01 -4.89337217e-01\n",
      " -8.04591142e-01 -2.12697639e-01 -3.39140246e-01  3.12169936e-01\n",
      "  5.65152670e-01 -1.47420258e-01 -2.59053368e-02  2.89094204e-01\n",
      " -5.39879071e-01  7.08160020e-01  8.42224738e-01  2.03580797e-01\n",
      "  2.39470366e+00  9.17458938e-01 -1.12272471e-01 -3.62180447e-01\n",
      " -2.32182256e-01 -5.01728900e-01  1.12878515e+00 -6.97810030e-01\n",
      " -8.11221838e-02 -5.29296081e-01  1.04618286e+00 -1.41855603e+00\n",
      " -3.62499183e-01 -1.21905691e-01  3.19356421e-01  4.60902902e-01\n",
      " -2.15789892e-01  9.89072457e-01  3.14753779e-01  2.46765106e+00\n",
      " -1.50832149e+00  6.20600663e-01 -1.04513254e+00 -7.98008818e-01\n",
      "  1.98508459e+00  1.74481415e+00 -1.85618548e+00 -2.22773699e-01\n",
      " -6.58478477e-02 -2.13171211e+00 -4.88305113e-02  3.93341217e-01\n",
      "  2.17265145e-01 -1.99439377e+00  1.10770823e+00  2.44543977e-01\n",
      " -6.19120295e-02 -7.53892961e-01  7.11959017e-01  9.18269151e-01\n",
      " -4.82093139e-01  8.95876126e-02  1.00000000e+02  1.00000000e+02]\n"
     ]
    },
    {
     "data": {
      "image/png": "[encoded data removed]",
      "text/plain": [
       "<Figure size 432x288 with 1 Axes>"
      ]
     },
     "metadata": {
      "needs_background": "light"
     },
     "output_type": "display_data"
    }
   ],
   "source": [
    "data[98:100] = 100  # 이상치 추가 \n",
    "print('insert outlier data:\\n', data)\n",
    "plt.hist(data)\n",
    "plt.show()   # 정규성이 없다 "
   ]
  },
  {
   "cell_type": "code",
   "execution_count": 10,
   "metadata": {},
   "outputs": [
    {
     "name": "stdout",
     "output_type": "stream",
     "text": [
      "numpy standard data : \n",
      " [-0.05414927 -0.09811235 -0.25937343 -0.14973341 -0.10481359 -0.20050124\n",
      " -0.13019562 -0.14139227 -0.14882924 -0.16159012 -0.11824629 -0.06331907\n",
      " -0.21797641 -0.07578546 -0.13282648 -0.11738235 -0.23021263 -0.13949564\n",
      " -0.04323885 -0.2261611  -0.29021269 -0.27349537 -0.13015577  0.02099156\n",
      " -0.06897907 -0.02982217 -0.14206275 -0.04941206 -0.1684843  -0.10539365\n",
      " -0.1682039  -0.18831923 -0.13966888 -0.18310001 -0.05579802 -0.13522447\n",
      " -0.12058717 -0.17321969 -0.0595074  -0.20134896 -0.10203905 -0.17416411\n",
      " -0.21614798 -0.18404126 -0.20652928 -0.16430773 -0.17332726 -0.12686734\n",
      " -0.10882131 -0.15965129 -0.15098327 -0.1285134  -0.18764656 -0.09862017\n",
      " -0.08905693 -0.13461333  0.02168608 -0.08369024 -0.15714409 -0.17497079\n",
      " -0.16569762 -0.1849252  -0.06861571 -0.19891226 -0.15492205 -0.18689165\n",
      " -0.07450798 -0.25032525 -0.17499352 -0.15783126 -0.1263547  -0.11625776\n",
      " -0.1645283  -0.07858183 -0.12668302  0.02688964 -0.25672849 -0.10486604\n",
      " -0.22368782 -0.20605974 -0.00753328 -0.0246725  -0.28154268 -0.16502648\n",
      " -0.15383249 -0.30119682 -0.15261859 -0.12107714 -0.13363718 -0.29140149\n",
      " -0.07011919 -0.1316913  -0.15355173 -0.20291282 -0.09834917 -0.08363245\n",
      " -0.18352452 -0.14274481  6.98416665  6.98416665]\n"
     ]
    },
    {
     "data": {
      "image/png": "[encoded data removed]",
      "text/plain": [
       "<Figure size 432x288 with 1 Axes>"
      ]
     },
     "metadata": {
      "needs_background": "light"
     },
     "output_type": "display_data"
    }
   ],
   "source": [
    "# numpy 사용\n",
    "data_stand_np = (data - np.mean(data,axis = 0))/\\\n",
    "                np.std(data ,axis = 0)\n",
    "print('numpy standard data : \\n' , data_stand_np)\n",
    "# [....100 100....] --> 6.98416665  6.98416665\n",
    "plt.hist(data_stand_np)\n",
    "plt.show()"
   ]
  },
  {
   "cell_type": "code",
   "execution_count": 11,
   "metadata": {},
   "outputs": [
    {
     "name": "stdout",
     "output_type": "stream",
     "text": [
      "zoomin data:\n",
      " [-0.05414927 -0.09811235 -0.25937343 -0.14973341 -0.10481359 -0.20050124\n",
      " -0.13019562 -0.14139227 -0.14882924 -0.16159012 -0.11824629 -0.06331907\n",
      " -0.21797641 -0.07578546 -0.13282648 -0.11738235 -0.23021263 -0.13949564\n",
      " -0.04323885 -0.2261611  -0.29021269 -0.27349537 -0.13015577  0.02099156\n",
      " -0.06897907 -0.02982217 -0.14206275 -0.04941206 -0.1684843  -0.10539365\n",
      " -0.1682039  -0.18831923 -0.13966888 -0.18310001 -0.05579802 -0.13522447\n",
      " -0.12058717 -0.17321969 -0.0595074  -0.20134896 -0.10203905 -0.17416411\n",
      " -0.21614798 -0.18404126 -0.20652928 -0.16430773 -0.17332726 -0.12686734\n",
      " -0.10882131 -0.15965129 -0.15098327 -0.1285134  -0.18764656 -0.09862017\n",
      " -0.08905693 -0.13461333  0.02168608 -0.08369024 -0.15714409 -0.17497079\n",
      " -0.16569762 -0.1849252  -0.06861571 -0.19891226 -0.15492205 -0.18689165\n",
      " -0.07450798 -0.25032525 -0.17499352 -0.15783126 -0.1263547  -0.11625776\n",
      " -0.1645283  -0.07858183 -0.12668302  0.02688964 -0.25672849 -0.10486604\n",
      " -0.22368782 -0.20605974 -0.00753328 -0.0246725  -0.28154268 -0.16502648\n",
      " -0.15383249 -0.30119682 -0.15261859 -0.12107714 -0.13363718 -0.29140149\n",
      " -0.07011919 -0.1316913  -0.15355173 -0.20291282 -0.09834917 -0.08363245\n",
      " -0.18352452 -0.14274481]\n"
     ]
    },
    {
     "data": {
      "image/png": "[encoded data removed]",
      "text/plain": [
       "<Figure size 432x288 with 1 Axes>"
      ]
     },
     "metadata": {
      "needs_background": "light"
     },
     "output_type": "display_data"
    }
   ],
   "source": [
    "# zoom - in \n",
    "data_stand_np_zoomin = data_stand_np[data_stand_np < 5]\n",
    "print(\"zoomin data:\\n\", data_stand_np_zoomin)\n",
    "plt.hist(data_stand_np_zoomin)\n",
    "plt.show()"
   ]
  },
  {
   "cell_type": "code",
   "execution_count": 12,
   "metadata": {},
   "outputs": [
    {
     "name": "stdout",
     "output_type": "stream",
     "text": [
      "[[ 1.33158650e+00]\n",
      " [ 7.15278974e-01]\n",
      " [-1.54540029e+00]\n",
      " [-8.38384993e-03]\n",
      " [ 6.21335974e-01]\n",
      " [-7.20085561e-01]\n",
      " [ 2.65511586e-01]\n",
      " [ 1.08548526e-01]\n",
      " [ 4.29143093e-03]\n",
      " [-1.74600211e-01]\n",
      " [ 4.33026190e-01]\n",
      " [ 1.20303737e+00]\n",
      " [-9.65065671e-01]\n",
      " [ 1.02827408e+00]\n",
      " [ 2.28630130e-01]\n",
      " [ 4.45137613e-01]\n",
      " [-1.13660221e+00]\n",
      " [ 1.35136878e-01]\n",
      " [ 1.48453700e+00]\n",
      " [-1.07980489e+00]\n",
      " [-1.97772828e+00]\n",
      " [-1.74337230e+00]\n",
      " [ 2.66070164e-01]\n",
      " [ 2.38496733e+00]\n",
      " [ 1.12369125e+00]\n",
      " [ 1.67262221e+00]\n",
      " [ 9.91492158e-02]\n",
      " [ 1.39799638e+00]\n",
      " [-2.71247988e-01]\n",
      " [ 6.13204185e-01]\n",
      " [-2.67317189e-01]\n",
      " [-5.49309014e-01]\n",
      " [ 1.32708296e-01]\n",
      " [-4.76142015e-01]\n",
      " [ 1.30847308e+00]\n",
      " [ 1.95013279e-01]\n",
      " [ 4.00209988e-01]\n",
      " [-3.37632337e-01]\n",
      " [ 1.25647226e+00]\n",
      " [-7.31969502e-01]\n",
      " [ 6.60231551e-01]\n",
      " [-3.50871891e-01]\n",
      " [-9.39433360e-01]\n",
      " [-4.89337217e-01]\n",
      " [-8.04591142e-01]\n",
      " [-2.12697639e-01]\n",
      " [-3.39140246e-01]\n",
      " [ 3.12169936e-01]\n",
      " [ 5.65152670e-01]\n",
      " [-1.47420258e-01]\n",
      " [-2.59053368e-02]\n",
      " [ 2.89094204e-01]\n",
      " [-5.39879071e-01]\n",
      " [ 7.08160020e-01]\n",
      " [ 8.42224738e-01]\n",
      " [ 2.03580797e-01]\n",
      " [ 2.39470366e+00]\n",
      " [ 9.17458938e-01]\n",
      " [-1.12272471e-01]\n",
      " [-3.62180447e-01]\n",
      " [-2.32182256e-01]\n",
      " [-5.01728900e-01]\n",
      " [ 1.12878515e+00]\n",
      " [-6.97810030e-01]\n",
      " [-8.11221838e-02]\n",
      " [-5.29296081e-01]\n",
      " [ 1.04618286e+00]\n",
      " [-1.41855603e+00]\n",
      " [-3.62499183e-01]\n",
      " [-1.21905691e-01]\n",
      " [ 3.19356421e-01]\n",
      " [ 4.60902902e-01]\n",
      " [-2.15789892e-01]\n",
      " [ 9.89072457e-01]\n",
      " [ 3.14753779e-01]\n",
      " [ 2.46765106e+00]\n",
      " [-1.50832149e+00]\n",
      " [ 6.20600663e-01]\n",
      " [-1.04513254e+00]\n",
      " [-7.98008818e-01]\n",
      " [ 1.98508459e+00]\n",
      " [ 1.74481415e+00]\n",
      " [-1.85618548e+00]\n",
      " [-2.22773699e-01]\n",
      " [-6.58478477e-02]\n",
      " [-2.13171211e+00]\n",
      " [-4.88305113e-02]\n",
      " [ 3.93341217e-01]\n",
      " [ 2.17265145e-01]\n",
      " [-1.99439377e+00]\n",
      " [ 1.10770823e+00]\n",
      " [ 2.44543977e-01]\n",
      " [-6.19120295e-02]\n",
      " [-7.53892961e-01]\n",
      " [ 7.11959017e-01]\n",
      " [ 9.18269151e-01]\n",
      " [-4.82093139e-01]\n",
      " [ 8.95876126e-02]\n",
      " [ 1.00000000e+02]\n",
      " [ 1.00000000e+02]]\n",
      "zoomin: \n",
      " [-0.05414927 -0.09811235 -0.25937343 -0.14973341 -0.10481359 -0.20050124\n",
      " -0.13019562 -0.14139227 -0.14882924 -0.16159012 -0.11824629 -0.06331907\n",
      " -0.21797641 -0.07578546 -0.13282648 -0.11738235 -0.23021263 -0.13949564\n",
      " -0.04323885 -0.2261611  -0.29021269 -0.27349537 -0.13015577  0.02099156\n",
      " -0.06897907 -0.02982217 -0.14206275 -0.04941206 -0.1684843  -0.10539365\n",
      " -0.1682039  -0.18831923 -0.13966888 -0.18310001 -0.05579802 -0.13522447\n",
      " -0.12058717 -0.17321969 -0.0595074  -0.20134896 -0.10203905 -0.17416411\n",
      " -0.21614798 -0.18404126 -0.20652928 -0.16430773 -0.17332726 -0.12686734\n",
      " -0.10882131 -0.15965129 -0.15098327 -0.1285134  -0.18764656 -0.09862017\n",
      " -0.08905693 -0.13461333  0.02168608 -0.08369024 -0.15714409 -0.17497079\n",
      " -0.16569762 -0.1849252  -0.06861571 -0.19891226 -0.15492205 -0.18689165\n",
      " -0.07450798 -0.25032525 -0.17499352 -0.15783126 -0.1263547  -0.11625776\n",
      " -0.1645283  -0.07858183 -0.12668302  0.02688964 -0.25672849 -0.10486604\n",
      " -0.22368782 -0.20605974 -0.00753328 -0.0246725  -0.28154268 -0.16502648\n",
      " -0.15383249 -0.30119682 -0.15261859 -0.12107714 -0.13363718 -0.29140149\n",
      " -0.07011919 -0.1316913  -0.15355173 -0.20291282 -0.09834917 -0.08363245\n",
      " -0.18352452 -0.14274481]\n"
     ]
    },
    {
     "data": {
      "image/png": "[encoded data removed]",
      "text/plain": [
       "<Figure size 432x288 with 1 Axes>"
      ]
     },
     "metadata": {
      "needs_background": "light"
     },
     "output_type": "display_data"
    }
   ],
   "source": [
    "# scikit -learn 사용\n",
    "data.shape  #(100,)  : 1차원\n",
    "data = data.reshape(-1,1) # 왜 -1일까?인덱싱에서는  1차원 배열을 2차원으로 변경 \n",
    "data_stand_skl = StandardScaler().fit_transform(data)\n",
    "data.shape # (100,1)\n",
    "print(data)\n",
    "data_stand_skl_zoomin = data_stand_skl[data_stand_skl <5]\n",
    "print('zoomin: \\n', data_stand_skl_zoomin)\n",
    "plt.hist(data_stand_skl_zoomin)\n",
    "plt.show()"
   ]
  },
  {
   "cell_type": "markdown",
   "metadata": {},
   "source": [
    "# 실습과제\n",
    "- boston 데이터 셋의 전처리 및 시각화 구현\n",
    "- 컬럼의 표준화 정규화 처리를 구현하세요\n",
    "- CRIM/ZN/MEDV 컬럼 데이터를 분석하여 전처리 한다"
   ]
  },
  {
   "cell_type": "code",
   "execution_count": 16,
   "metadata": {},
   "outputs": [
    {
     "name": "stdout",
     "output_type": "stream",
     "text": [
      "         CRIM    ZN  INDUS     NOX     RM    AGE      DIS  TAX  PTRATIO  MEDV\n",
      "0     2.30040   0.0  19.58  0.6050  6.319   96.1   2.1000  403     14.7  23.8\n",
      "1    13.35980   0.0  18.10  0.6930  5.887   94.7   1.7821  666     20.2  12.7\n",
      "2     0.12744   0.0   6.91  0.4480  6.770    2.9   5.7209  233     17.9  26.6\n",
      "3     0.15876   0.0  10.81  0.4130  5.961   17.5   5.2873  305     19.2  21.7\n",
      "4     0.03768  80.0   1.52  0.4040  7.274   38.3   7.3090  329     12.6  34.6\n",
      "5     0.03705  20.0   3.33  0.4429  6.968   37.2   5.2447  216     14.9  35.4\n",
      "6     0.07244  60.0   1.69  0.4110  5.884   18.5  10.7103  411     18.3  18.6\n",
      "7     0.10000  34.0   6.09  0.4330  6.982   17.7   5.4917  329     16.1  33.1\n",
      "8     4.81213   0.0  18.10  0.7130  6.701   90.0   2.5975  666     20.2  16.4\n",
      "9     0.15086   0.0  27.74  0.6090  5.454   92.7   1.8209  711     20.1  15.2\n",
      "10   38.35180   0.0  18.10  0.6930  5.453  100.0   1.4896  666     20.2   5.0\n",
      "11    0.05479  33.0   2.18  0.4720  6.616   58.1   3.3700  222     18.4  28.4\n",
      "12    4.54192   0.0  18.10  0.7700  6.398   88.0   2.5182  666     20.2  25.0\n",
      "13    0.78570  20.0   3.97  0.6470  7.014   84.6   2.1329  264     13.0  30.7\n",
      "14    3.53501   0.0  19.58  0.8710  6.152   82.6   1.7455  403     14.7  15.6\n",
      "15    1.22358   0.0  19.58  0.6050  6.943   97.4   1.8773  403     14.7  41.3\n",
      "16    0.08826   0.0  10.81  0.4130  6.417    6.6   5.2873  305     19.2  24.2\n",
      "17    3.56868   0.0  18.10  0.5800  6.437   75.0   2.8965  666     20.2  23.2\n",
      "18    3.47428   0.0  18.10  0.7180  8.780   82.9   1.9047  666     20.2  21.9\n",
      "19    0.05735   0.0   4.49  0.4490  6.630   56.1   4.4377  247     18.5  26.6\n",
      "20    0.04981  21.0   5.64  0.4390  5.998   21.4   6.8147  243     16.8  23.4\n",
      "21    0.17505   0.0   5.96  0.4990  5.966   30.2   3.8473  279     19.2  24.7\n",
      "22    7.75223   0.0  18.10  0.7130  6.301   83.7   2.7831  666     20.2  14.9\n",
      "23    8.26725   0.0  18.10  0.6680  5.875   89.6   1.1296  666     20.2  50.0\n",
      "24    5.66637   0.0  18.10  0.7400  6.219  100.0   2.0048  666     20.2  18.4\n",
      "25    0.17331   0.0   9.69  0.5850  5.707   54.0   2.3817  391     19.2  21.8\n",
      "26    0.14476   0.0  10.01  0.5470  5.731   65.2   2.7592  432     17.8  19.3\n",
      "27    1.27346   0.0  19.58  0.6050  6.250   92.6   1.7984  403     14.7  27.0\n",
      "28    6.39312   0.0  18.10  0.5840  6.162   97.4   2.2060  666     20.2  13.3\n",
      "29    8.79212   0.0  18.10  0.5840  5.565   70.6   2.0635  666     20.2  11.7\n",
      "..        ...   ...    ...     ...    ...    ...      ...  ...      ...   ...\n",
      "370   0.04590  52.5   5.32  0.4050  6.315   45.6   7.3172  293     16.6  22.3\n",
      "371   0.06127  40.0   6.41  0.4470  6.826   27.6   4.8628  254     17.6  33.1\n",
      "372   0.19186   0.0   7.38  0.4930  6.431   14.7   5.4159  287     19.6  24.6\n",
      "373   0.17120   0.0   8.56  0.5200  5.836   91.9   2.2110  384     20.9  19.5\n",
      "374   1.65660   0.0  19.58  0.8710  6.122   97.3   1.6180  403     14.7  21.5\n",
      "375   0.00632  18.0   2.31  0.5380  6.575   65.2   4.0900  296     15.3  24.0\n",
      "376   0.88125   0.0  21.89  0.6240  5.637   94.7   1.9799  437     21.2  14.3\n",
      "377   0.98843   0.0   8.14  0.5380  5.813  100.0   4.0952  307     21.0  14.5\n",
      "378   0.01538  90.0   3.75  0.3940  7.454   34.2   6.3361  244     15.9  44.0\n",
      "379   0.05561  70.0   2.24  0.4000  7.041   10.0   7.8278  358     14.8  29.0\n",
      "380   0.36920   0.0   9.90  0.5440  6.567   87.3   3.6023  304     18.4  23.8\n",
      "381   0.03150  95.0   1.47  0.4030  6.975   15.3   7.6534  402     17.0  34.9\n",
      "382   0.05789  12.5   6.07  0.4090  5.878   21.4   6.4980  345     18.9  22.0\n",
      "383   0.01778  95.0   1.47  0.4030  7.135   13.9   7.6534  402     17.0  32.9\n",
      "384   0.57529   0.0   6.20  0.5070  8.337   73.3   3.8384  307     17.4  41.7\n",
      "385  20.08490   0.0  18.10  0.7000  4.368   91.2   1.4395  666     20.2   8.8\n",
      "386  18.81100   0.0  18.10  0.5970  4.628  100.0   1.5539  666     20.2  17.9\n",
      "387  14.33370   0.0  18.10  0.6140  6.229   88.0   1.9512  666     20.2  21.4\n",
      "388   0.07896   0.0  12.83  0.4370  6.273    6.0   4.2515  398     18.7  24.1\n",
      "389   0.03578  20.0   3.33  0.4429  7.820   64.5   4.6947  216     14.9  45.4\n",
      "390   0.10612  30.0   4.93  0.4280  6.095   65.1   6.3361  300     16.6  20.1\n",
      "391   0.97617   0.0  21.89  0.6240  5.757   98.4   2.3460  437     21.2  15.6\n",
      "392  18.49820   0.0  18.10  0.6680  4.138  100.0   1.1370  666     20.2  13.8\n",
      "393   4.09740   0.0  19.58  0.8710  5.468  100.0   1.4118  403     14.7  15.6\n",
      "394   0.15445  25.0   5.13  0.4530  6.145   29.2   7.8148  284     19.7  23.3\n",
      "395   0.23912   0.0   9.69  0.5850  6.019   65.3   2.4091  391     19.2  21.2\n",
      "396   0.04560   0.0  13.89  0.5500  5.888   56.0   3.1121  276     16.4  23.3\n",
      "397   1.38799   0.0   8.14  0.5380  5.950   82.0   3.9900  307     21.0  13.2\n",
      "398   7.36711   0.0  18.10  0.6790  6.193   78.1   1.9356  666     20.2  11.0\n",
      "399   0.14150   0.0   6.91  0.4480  6.169    6.6   5.7209  233     17.9  25.3\n",
      "\n",
      "[400 rows x 10 columns]\n",
      "          CRIM    ZN      INDUS       NOX        RM        AGE       DIS  \\\n",
      "0     2.300329   0.0  19.563138 -0.187181  5.636685  96.070134   1.99728   \n",
      "1    13.359729   0.0  18.083138 -0.099181  5.204685  94.670134   1.67938   \n",
      "2     0.127369   0.0   6.893138 -0.344181  6.087685   2.870134   5.61818   \n",
      "3     0.158689   0.0  10.793138 -0.379181  5.278685  17.470134   5.18458   \n",
      "4     0.037609  80.0   1.503138 -0.388181  6.591685  38.270134   7.20628   \n",
      "5     0.036979  20.0   3.313138 -0.349281  6.285685  37.170134   5.14198   \n",
      "6     0.072369  60.0   1.673138 -0.381181  5.201685  18.470134  10.60758   \n",
      "7     0.099929  34.0   6.073138 -0.359181  6.299685  17.670134   5.38898   \n",
      "8     4.812059   0.0  18.083138 -0.079181  6.018685  89.970134   2.49478   \n",
      "9     0.150789   0.0  27.723138 -0.183181  4.771685  92.670134   1.71818   \n",
      "10   38.351729   0.0  18.083138 -0.099181  4.770685  99.970134   1.38688   \n",
      "11    0.054719  33.0   2.163138 -0.320181  5.933685  58.070134   3.26728   \n",
      "12    4.541849   0.0  18.083138 -0.022181  5.715685  87.970134   2.41548   \n",
      "13    0.785629  20.0   3.953138 -0.145181  6.331685  84.570134   2.03018   \n",
      "14    3.534939   0.0  19.563138  0.078819  5.469685  82.570134   1.64278   \n",
      "15    1.223509   0.0  19.563138 -0.187181  6.260685  97.370134   1.77458   \n",
      "16    0.088189   0.0  10.793138 -0.379181  5.734685   6.570134   5.18458   \n",
      "17    3.568609   0.0  18.083138 -0.212181  5.754685  74.970134   2.79378   \n",
      "18    3.474209   0.0  18.083138 -0.074181  8.097685  82.870134   1.80198   \n",
      "19    0.057279   0.0   4.473138 -0.343181  5.947685  56.070134   4.33498   \n",
      "20    0.049739  21.0   5.623138 -0.353181  5.315685  21.370134   6.71198   \n",
      "21    0.174979   0.0   5.943138 -0.293181  5.283685  30.170134   3.74458   \n",
      "22    7.752159   0.0  18.083138 -0.079181  5.618685  83.670134   2.68038   \n",
      "23    8.267179   0.0  18.083138 -0.124181  5.192685  89.570134   1.02688   \n",
      "24    5.666299   0.0  18.083138 -0.052181  5.536685  99.970134   1.90208   \n",
      "25    0.173239   0.0   9.673138 -0.207181  5.024685  53.970134   2.27898   \n",
      "26    0.144689   0.0   9.993138 -0.245181  5.048685  65.170134   2.65648   \n",
      "27    1.273389   0.0  19.563138 -0.187181  5.567685  92.570134   1.69568   \n",
      "28    6.393049   0.0  18.083138 -0.208181  5.479685  97.370134   2.10328   \n",
      "29    8.792049   0.0  18.083138 -0.208181  4.882685  70.570134   1.96078   \n",
      "..         ...   ...        ...       ...       ...        ...       ...   \n",
      "370   0.045829  52.5   5.303138 -0.387181  5.632685  45.570134   7.21448   \n",
      "371   0.061199  40.0   6.393138 -0.345181  6.143685  27.570134   4.76008   \n",
      "372   0.191789   0.0   7.363138 -0.299181  5.748685  14.670134   5.31318   \n",
      "373   0.171129   0.0   8.543138 -0.272181  5.153685  91.870134   2.10828   \n",
      "374   1.656529   0.0  19.563138  0.078819  5.439685  97.270134   1.51528   \n",
      "375   0.006249  18.0   2.293138 -0.254181  5.892685  65.170134   3.98728   \n",
      "376   0.881179   0.0  21.873138 -0.168181  4.954685  94.670134   1.87718   \n",
      "377   0.988359   0.0   8.123138 -0.254181  5.130685  99.970134   3.99248   \n",
      "378   0.015309  90.0   3.733138 -0.398181  6.771685  34.170134   6.23338   \n",
      "379   0.055539  70.0   2.223138 -0.392181  6.358685   9.970134   7.72508   \n",
      "380   0.369129   0.0   9.883138 -0.248181  5.884685  87.270134   3.49958   \n",
      "381   0.031429  95.0   1.453138 -0.389181  6.292685  15.270134   7.55068   \n",
      "382   0.057819  12.5   6.053138 -0.383181  5.195685  21.370134   6.39528   \n",
      "383   0.017709  95.0   1.453138 -0.389181  6.452685  13.870134   7.55068   \n",
      "384   0.575219   0.0   6.183138 -0.285181  7.654685  73.270134   3.73568   \n",
      "385  20.084829   0.0  18.083138 -0.092181  3.685685  91.170134   1.33678   \n",
      "386  18.810929   0.0  18.083138 -0.195181  3.945685  99.970134   1.45118   \n",
      "387  14.333629   0.0  18.083138 -0.178181  5.546685  87.970134   1.84848   \n",
      "388   0.078889   0.0  12.813138 -0.355181  5.590685   5.970134   4.14878   \n",
      "389   0.035709  20.0   3.313138 -0.349281  7.137685  64.470134   4.59198   \n",
      "390   0.106049  30.0   4.913138 -0.364181  5.412685  65.070134   6.23338   \n",
      "391   0.976099   0.0  21.873138 -0.168181  5.074685  98.370134   2.24328   \n",
      "392  18.498129   0.0  18.083138 -0.124181  3.455685  99.970134   1.03428   \n",
      "393   4.097329   0.0  19.563138  0.078819  4.785685  99.970134   1.30908   \n",
      "394   0.154379  25.0   5.113138 -0.339181  5.462685  29.170134   7.71208   \n",
      "395   0.239049   0.0   9.673138 -0.207181  5.336685  65.270134   2.30638   \n",
      "396   0.045529   0.0  13.873138 -0.242181  5.205685  55.970134   3.00938   \n",
      "397   1.387919   0.0   8.123138 -0.254181  5.267685  81.970134   3.88728   \n",
      "398   7.367039   0.0  18.083138 -0.113181  5.510685  78.070134   1.83288   \n",
      "399   0.141429   0.0   6.893138 -0.344181  5.486685   6.570134   5.61818   \n",
      "\n",
      "           TAX    PTRATIO       MEDV  \n",
      "0    402.64313  13.359574  23.688889  \n",
      "1    665.64313  18.859574  12.588889  \n",
      "2    232.64313  16.559574  26.488889  \n",
      "3    304.64313  17.859574  21.588889  \n",
      "4    328.64313  11.259574  34.488889  \n",
      "5    215.64313  13.559574  35.288889  \n",
      "6    410.64313  16.959574  18.488889  \n",
      "7    328.64313  14.759574  32.988889  \n",
      "8    665.64313  18.859574  16.288889  \n",
      "9    710.64313  18.759574  15.088889  \n",
      "10   665.64313  18.859574   4.888889  \n",
      "11   221.64313  17.059574  28.288889  \n",
      "12   665.64313  18.859574  24.888889  \n",
      "13   263.64313  11.659574  30.588889  \n",
      "14   402.64313  13.359574  15.488889  \n",
      "15   402.64313  13.359574  41.188889  \n",
      "16   304.64313  17.859574  24.088889  \n",
      "17   665.64313  18.859574  23.088889  \n",
      "18   665.64313  18.859574  21.788889  \n",
      "19   246.64313  17.159574  26.488889  \n",
      "20   242.64313  15.459574  23.288889  \n",
      "21   278.64313  17.859574  24.588889  \n",
      "22   665.64313  18.859574  14.788889  \n",
      "23   665.64313  18.859574  49.888889  \n",
      "24   665.64313  18.859574  18.288889  \n",
      "25   390.64313  17.859574  21.688889  \n",
      "26   431.64313  16.459574  19.188889  \n",
      "27   402.64313  13.359574  26.888889  \n",
      "28   665.64313  18.859574  13.188889  \n",
      "29   665.64313  18.859574  11.588889  \n",
      "..         ...        ...        ...  \n",
      "370  292.64313  15.259574  22.188889  \n",
      "371  253.64313  16.259574  32.988889  \n",
      "372  286.64313  18.259574  24.488889  \n",
      "373  383.64313  19.559574  19.388889  \n",
      "374  402.64313  13.359574  21.388889  \n",
      "375  295.64313  13.959574  23.888889  \n",
      "376  436.64313  19.859574  14.188889  \n",
      "377  306.64313  19.659574  14.388889  \n",
      "378  243.64313  14.559574  43.888889  \n",
      "379  357.64313  13.459574  28.888889  \n",
      "380  303.64313  17.059574  23.688889  \n",
      "381  401.64313  15.659574  34.788889  \n",
      "382  344.64313  17.559574  21.888889  \n",
      "383  401.64313  15.659574  32.788889  \n",
      "384  306.64313  16.059574  41.588889  \n",
      "385  665.64313  18.859574   8.688889  \n",
      "386  665.64313  18.859574  17.788889  \n",
      "387  665.64313  18.859574  21.288889  \n",
      "388  397.64313  17.359574  23.988889  \n",
      "389  215.64313  13.559574  45.288889  \n",
      "390  299.64313  15.259574  19.988889  \n",
      "391  436.64313  19.859574  15.488889  \n",
      "392  665.64313  18.859574  13.688889  \n",
      "393  402.64313  13.359574  15.488889  \n",
      "394  283.64313  18.359574  23.188889  \n",
      "395  390.64313  17.859574  21.088889  \n",
      "396  275.64313  15.059574  23.188889  \n",
      "397  306.64313  19.659574  13.088889  \n",
      "398  665.64313  18.859574  10.888889  \n",
      "399  232.64313  16.559574  25.188889  \n",
      "\n",
      "[400 rows x 10 columns]\n"
     ]
    }
   ],
   "source": [
    "import pandas as pd\n",
    "import numpy as np\n",
    "import matplotlib.pyplot as plt\n",
    "\n",
    "df = pd.read_csv('boston_train.csv')\n",
    "print(df)\n",
    "# 정규화 minmaxscater, # Z = (X - min())/(max() - min())\n",
    "df_minmax_np = (df - np.min(df,axis =0)/(np.max(df,axis = 0) -np.min(df,axis =0)))\n",
    "print(df_minmax_np)\n",
    "\n"
   ]
  },
  {
   "cell_type": "code",
   "execution_count": 17,
   "metadata": {},
   "outputs": [
    {
     "name": "stdout",
     "output_type": "stream",
     "text": [
      "sklear minmax data:Wn [[-0.17155637 -0.483311    1.17133443 ... -0.05047626 -1.7587732\n",
      "   0.12284768]\n",
      " [ 1.01070306 -0.483311    0.95997891 ...  1.48379204  0.79101332\n",
      "  -1.03816492]\n",
      " [-0.40384768 -0.483311   -0.63804019 ... -1.04220862 -0.27526104\n",
      "   0.41571573]\n",
      " ...\n",
      " [-0.26909379 -0.483311   -0.46238661 ... -0.61051336  1.16189135\n",
      "  -0.98586705]\n",
      " [ 0.37007931 -0.483311    0.95997891 ...  1.48379204  0.79101332\n",
      "  -1.21597766]\n",
      " [-0.40234465 -0.483311   -0.63804019 ... -1.04220862 -0.27526104\n",
      "   0.27974128]]\n"
     ]
    },
    {
     "name": "stderr",
     "output_type": "stream",
     "text": [
      "C:\\Users\\CPB06GameN\\Anaconda3\\lib\\site-packages\\sklearn\\preprocessing\\data.py:645: DataConversionWarning: Data with input dtype int64, float64 were all converted to float64 by StandardScaler.\n",
      "  return self.partial_fit(X, y)\n",
      "C:\\Users\\CPB06GameN\\Anaconda3\\lib\\site-packages\\sklearn\\base.py:464: DataConversionWarning: Data with input dtype int64, float64 were all converted to float64 by StandardScaler.\n",
      "  return self.fit(X, **fit_params).transform(X)\n"
     ]
    }
   ],
   "source": [
    "from sklearn.preprocessing import StandardScaler\n",
    "df_minmax_skl = StandardScaler().fit_transform(df)\n",
    "print('sklear minmax data:Wn',df_minmax_skl)"
   ]
  },
  {
   "cell_type": "code",
   "execution_count": null,
   "metadata": {},
   "outputs": [],
   "source": []
  },
  {
   "cell_type": "code",
   "execution_count": null,
   "metadata": {},
   "outputs": [],
   "source": []
  }
 ],
 "metadata": {
  "kernelspec": {
   "display_name": "Python 3",
   "language": "python",
   "name": "python3"
  },
  "language_info": {
   "codemirror_mode": {
    "name": "ipython",
    "version": 3
   },
   "file_extension": ".py",
   "mimetype": "text/x-python",
   "name": "python",
   "nbconvert_exporter": "python",
   "pygments_lexer": "ipython3",
   "version": "3.7.3"
  }
 },
 "nbformat": 4,
 "nbformat_minor": 2
}
