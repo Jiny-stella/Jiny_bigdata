{
 "cells": [
  {
   "cell_type": "code",
   "execution_count": 1,
   "metadata": {},
   "outputs": [
    {
     "name": "stdout",
     "output_type": "stream",
     "text": [
      "(400, 10)\n",
      "RangeIndex(start=0, stop=400, step=1)\n",
      "[[2.30040e+00 0.00000e+00 1.95800e+01 ... 4.03000e+02 1.47000e+01\n",
      "  2.38000e+01]\n",
      " [1.33598e+01 0.00000e+00 1.81000e+01 ... 6.66000e+02 2.02000e+01\n",
      "  1.27000e+01]\n",
      " [1.27440e-01 0.00000e+00 6.91000e+00 ... 2.33000e+02 1.79000e+01\n",
      "  2.66000e+01]\n",
      " ...\n",
      " [1.38799e+00 0.00000e+00 8.14000e+00 ... 3.07000e+02 2.10000e+01\n",
      "  1.32000e+01]\n",
      " [7.36711e+00 0.00000e+00 1.81000e+01 ... 6.66000e+02 2.02000e+01\n",
      "  1.10000e+01]\n",
      " [1.41500e-01 0.00000e+00 6.91000e+00 ... 2.33000e+02 1.79000e+01\n",
      "  2.53000e+01]]\n"
     ]
    }
   ],
   "source": [
    "import pandas as pd\n",
    "\n",
    "# 1\n",
    "df = pd.read_csv('boston_train.csv')\n",
    "df\n",
    "\n",
    "#2\n",
    "print(df.shape)\n",
    "print(df.index)\n",
    "print(df.values)\n"
   ]
  },
  {
   "cell_type": "code",
   "execution_count": 2,
   "metadata": {},
   "outputs": [
    {
     "ename": "SyntaxError",
     "evalue": "invalid syntax (<ipython-input-2-acbffd7f4a8e>, line 2)",
     "output_type": "error",
     "traceback": [
      "\u001b[1;36m  File \u001b[1;32m\"<ipython-input-2-acbffd7f4a8e>\"\u001b[1;36m, line \u001b[1;32m2\u001b[0m\n\u001b[1;33m    1) df[start행번호 :end 행번호: step]\u001b[0m\n\u001b[1;37m     ^\u001b[0m\n\u001b[1;31mSyntaxError\u001b[0m\u001b[1;31m:\u001b[0m invalid syntax\n"
     ]
    }
   ],
   "source": [
    "# 행으로 접근 \n",
    "1) df[start행번호 :end 행번호: step]\n",
    "print(df[0:10:2])"
   ]
  },
  {
   "cell_type": "code",
   "execution_count": null,
   "metadata": {},
   "outputs": [],
   "source": [
    "# 열로 접근\n",
    "# 2) df.columns\n",
    "print(df[df.columns[5]])"
   ]
  },
  {
   "cell_type": "code",
   "execution_count": null,
   "metadata": {},
   "outputs": [],
   "source": [
    "# Series 객체 : 1차원 배열, DataFrame내의 1개의 컬럼\n",
    "\n",
    "# 열의 이름을 직접 사용하여 열을 추출하여 Series 객체 생성\n",
    "type(df)\n",
    "sr = df['AGE']\n",
    "type(sr)   #series "
   ]
  },
  {
   "cell_type": "code",
   "execution_count": null,
   "metadata": {},
   "outputs": [],
   "source": [
    " #열의 번호를 사용하여 여러개 열을 추출하여 DataFrame 객체 생성  \n",
    "r2 = df[[df.columns[0],df.columns[1],df.columns[2]]]   # df[['Country','CountryID','Continent']] 와 같은 결과\n",
    "type(r2)   # DataFrame\n",
    "print(r2)"
   ]
  },
  {
   "cell_type": "code",
   "execution_count": null,
   "metadata": {},
   "outputs": [],
   "source": [
    "# df.iloc[행,열]를 사용하여 스칼라 값(원소) 값을 접근하고 수정\n",
    "df.iloc[0,5] = 'old'\n",
    "print(df.iloc[0,:6])"
   ]
  },
  {
   "cell_type": "code",
   "execution_count": null,
   "metadata": {},
   "outputs": [],
   "source": [
    "# 수정된 DataFrame을 새로운 csv 파일로 저장\n",
    "df.to_csv('boston_train.csv',index =  False)"
   ]
  },
  {
   "cell_type": "code",
   "execution_count": null,
   "metadata": {},
   "outputs": [],
   "source": []
  }
 ],
 "metadata": {
  "kernelspec": {
   "display_name": "Python 3",
   "language": "python",
   "name": "python3"
  },
  "language_info": {
   "codemirror_mode": {
    "name": "ipython",
    "version": 3
   },
   "file_extension": ".py",
   "mimetype": "text/x-python",
   "name": "python",
   "nbconvert_exporter": "python",
   "pygments_lexer": "ipython3",
   "version": "3.7.3"
  }
 },
 "nbformat": 4,
 "nbformat_minor": 2
}
